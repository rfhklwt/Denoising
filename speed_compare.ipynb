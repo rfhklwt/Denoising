{
 "cells": [
  {
   "cell_type": "code",
   "execution_count": 1,
   "metadata": {},
   "outputs": [
    {
     "name": "stderr",
     "output_type": "stream",
     "text": [
      "\n",
      "(julia:8164): GLib-GObject-CRITICAL **: 21:50:27.216: g_value_set_boxed: assertion 'G_VALUE_HOLDS_BOXED (value)' failed\n"
     ]
    }
   ],
   "source": [
    "using HoloProcessing\n",
    "using Images\n",
    "using FFTW\n",
    "using ImageView\n",
    "using BenchmarkTools"
   ]
  },
  {
   "cell_type": "code",
   "execution_count": 2,
   "metadata": {},
   "outputs": [
    {
     "data": {
      "text/plain": [
       "12"
      ]
     },
     "execution_count": 2,
     "metadata": {},
     "output_type": "execute_result"
    }
   ],
   "source": [
    "Threads.nthreads()"
   ]
  },
  {
   "cell_type": "code",
   "execution_count": 3,
   "metadata": {},
   "outputs": [
    {
     "data": {
      "text/plain": [
       "sdm_speed (generic function with 1 method)"
      ]
     },
     "execution_count": 3,
     "metadata": {},
     "output_type": "execute_result"
    }
   ],
   "source": [
    "function sdm_speed(holo::AbstractMatrix, P::FFTW.cFFTWPlan, scalefactor::Number, Dx::Int, Dy::Int, dx::Int, dy::Int, N::Int)\n",
    "    tensor = make_sub_holo(holo, Dx, Dy, dx, dy)\n",
    "    @inbounds Threads.@threads for ind in CartesianIndices(1: size(tensor, 3))\n",
    "        k = ind.I[1]\n",
    "        tensor[:, :, k] = reconst(tensor[:, :, k], P, scale ÷ N^2)\n",
    "    end\n",
    "    rse_img = SDM(tensor)\n",
    "end"
   ]
  },
  {
   "cell_type": "code",
   "execution_count": 4,
   "metadata": {},
   "outputs": [
    {
     "data": {
      "text/plain": [
       "rse_speed (generic function with 1 method)"
      ]
     },
     "execution_count": 4,
     "metadata": {},
     "output_type": "execute_result"
    }
   ],
   "source": [
    "function rse_speed(holo::AbstractMatrix, P::FFTW.cFFTWPlan, scalefactor::Number, Dx::Int, Dy::Int, dx::Int, dy::Int, N::Int)\n",
    "    tensor = make_sub_holo(holo, Dx, Dy, dx, dy)\n",
    "    @inbounds Threads.@threads for ind in CartesianIndices(1: size(tensor, 3))\n",
    "        k = ind.I[1]\n",
    "        tensor[:, :, k] = reconst(tensor[:, :, k], P, scale ÷ N^2)\n",
    "    end\n",
    "    rse_img = RSE_parallel(tensor)\n",
    "end"
   ]
  },
  {
   "cell_type": "code",
   "execution_count": 5,
   "metadata": {},
   "outputs": [
    {
     "data": {
      "text/plain": [
       "ldr_speed (generic function with 1 method)"
      ]
     },
     "execution_count": 5,
     "metadata": {},
     "output_type": "execute_result"
    }
   ],
   "source": [
    "function ldr_speed(holo::AbstractMatrix, P::FFTW.cFFTWPlan, scalefactor::Number, Dx::Int, Dy::Int, dx::Int, dy::Int, N::Int)\n",
    "    tensor = make_sub_holo(holo, Dx, Dy, dx, dy; dims_shrink=true)\n",
    "    @inbounds Threads.@threads for ind in CartesianIndices(1: size(tensor, 3))\n",
    "        k = ind.I[1]\n",
    "        tensor[:, :, k] = reconst(tensor[:, :, k], P, scale ÷ N^2)\n",
    "    end\n",
    "    rse_img = LDR(tensor, N)\n",
    "end"
   ]
  },
  {
   "cell_type": "code",
   "execution_count": 6,
   "metadata": {},
   "outputs": [
    {
     "name": "stdout",
     "output_type": "stream",
     "text": [
      "  1.878 s (12083564 allocations: 11.45 GiB)\n"
     ]
    },
    {
     "data": {
      "text/plain": [
       "960×1280 Matrix{Float64}:\n",
       " 1.0       1.0       1.0       1.0       …  1.0       1.0       1.0\n",
       " 1.0       1.0       1.0       1.0          1.0       1.0       1.0\n",
       " 1.0       1.0       0.719903  0.66873      1.0       1.0       1.0\n",
       " 1.0       1.0       0.43205   1.0          1.0       0.521553  1.0\n",
       " 1.0       1.0       0.873951  0.610499     0.677836  1.0       1.0\n",
       " 1.0       1.0       0.433627  1.0       …  1.0       0.907393  1.0\n",
       " 1.0       1.0       0.794999  0.507927     0.777325  0.730259  1.0\n",
       " 1.0       1.0       0.543312  1.0          1.0       0.648542  1.0\n",
       " 1.0       0.730515  0.561595  0.425009     1.0       0.708337  1.0\n",
       " 1.0       1.0       0.715046  1.0          1.0       0.470306  1.0\n",
       " 0.765627  1.0       0.544057  0.719183  …  0.348016  0.485371  0.586165\n",
       " 1.0       1.0       0.528507  1.0          1.0       0.682665  1.0\n",
       " 0.902728  0.557336  0.558385  0.694203     0.470499  0.890749  0.946224\n",
       " ⋮                                       ⋱                      \n",
       " 0.902728  0.946224  0.890749  0.470499     0.694203  0.558385  0.557336\n",
       " 1.0       1.0       0.682665  1.0          1.0       0.528507  1.0\n",
       " 0.765627  0.586165  0.485371  0.348016  …  0.719183  0.544057  1.0\n",
       " 1.0       1.0       0.470306  1.0          1.0       0.715046  1.0\n",
       " 1.0       1.0       0.708337  1.0          0.425009  0.561595  0.730515\n",
       " 1.0       1.0       0.648542  1.0          1.0       0.543312  1.0\n",
       " 1.0       1.0       0.730259  0.777325     0.507927  0.794999  1.0\n",
       " 1.0       1.0       0.907393  1.0       …  1.0       0.433627  1.0\n",
       " 1.0       1.0       1.0       0.677836     0.610499  0.873951  1.0\n",
       " 1.0       1.0       0.521553  1.0          1.0       0.43205   1.0\n",
       " 1.0       1.0       1.0       1.0          0.66873   0.719903  1.0\n",
       " 1.0       1.0       1.0       1.0          1.0       1.0       1.0"
      ]
     },
     "execution_count": 6,
     "metadata": {},
     "output_type": "execute_result"
    }
   ],
   "source": [
    "PATH = joinpath(@__DIR__, \"hologram\")\n",
    "holo_name = \"head.bmp\"\n",
    "holo = load_image(PATH, holo_name)\n",
    "Nx, Ny = size(holo)\n",
    "scale = 4000000\n",
    "P = plan_fft(holo)\n",
    "re_img = reconst(holo, P, scale; shift=true)\n",
    "Dx, Dy = Nx ÷ 2, Ny ÷ 2\n",
    "@btime rse_speed(holo, P, 4000000, Dx, Dy, 50, 100, 2)"
   ]
  },
  {
   "cell_type": "code",
   "execution_count": 7,
   "metadata": {},
   "outputs": [
    {
     "name": "stdout",
     "output_type": "stream",
     "text": [
      "  1.291 s (1276 allocations: 7.06 GiB)\n"
     ]
    },
    {
     "data": {
      "text/plain": [
       "960×1280×1 Array{Float64, 3}:\n",
       "[:, :, 1] =\n",
       " 1.0       1.0       1.0       1.0       …  1.0       1.0       1.0\n",
       " 1.0       1.0       1.0       1.0          1.0       1.0       1.0\n",
       " 1.0       1.0       0.987996  0.976338     1.0       1.0       1.0\n",
       " 1.0       1.0       0.975659  1.0          1.0       0.98633   1.0\n",
       " 1.0       1.0       0.994598  0.983307     0.990795  1.0       1.0\n",
       " 1.0       1.0       0.943363  1.0       …  1.0       0.997354  1.0\n",
       " 1.0       1.0       0.988286  0.971882     0.993638  0.992293  1.0\n",
       " 1.0       1.0       0.954331  1.0          1.0       0.979917  1.0\n",
       " 1.0       0.988451  0.937371  0.934287     1.0       0.983334  1.0\n",
       " 1.0       1.0       0.987788  1.0          1.0       0.969732  1.0\n",
       " 0.993304  1.0       0.986973  0.97593   …  0.934802  0.963241  0.982264\n",
       " 1.0       1.0       0.946115  1.0          1.0       0.950133  1.0\n",
       " 0.997221  0.981029  0.917986  0.978157     0.939486  0.995318  0.997695\n",
       " ⋮                                       ⋱                      \n",
       " 0.997221  0.997695  0.995318  0.939486     0.978157  0.917986  0.981029\n",
       " 1.0       1.0       0.950133  1.0          1.0       0.946115  1.0\n",
       " 0.993304  0.982264  0.963241  0.934802  …  0.97593   0.986973  1.0\n",
       " 1.0       1.0       0.969732  1.0          1.0       0.987788  1.0\n",
       " 1.0       1.0       0.983334  1.0          0.934287  0.937371  0.988451\n",
       " 1.0       1.0       0.979917  1.0          1.0       0.954331  1.0\n",
       " 1.0       1.0       0.992293  0.993638     0.971882  0.988286  1.0\n",
       " 1.0       1.0       0.997354  1.0       …  1.0       0.943363  1.0\n",
       " 1.0       1.0       1.0       0.990795     0.983307  0.994598  1.0\n",
       " 1.0       1.0       0.98633   1.0          1.0       0.975659  1.0\n",
       " 1.0       1.0       1.0       1.0          0.976338  0.987996  1.0\n",
       " 1.0       1.0       1.0       1.0          1.0       1.0       1.0"
      ]
     },
     "execution_count": 7,
     "metadata": {},
     "output_type": "execute_result"
    }
   ],
   "source": [
    "@btime sdm_speed(holo, P, 4000000, Dx, Dy, 50, 100, 2)"
   ]
  },
  {
   "cell_type": "code",
   "execution_count": 8,
   "metadata": {},
   "outputs": [
    {
     "name": "stdout",
     "output_type": "stream",
     "text": [
      "  477.011 ms (86518 allocations: 1.96 GiB)\n"
     ]
    },
    {
     "data": {
      "text/plain": [
       "960×1280 Matrix{Float64}:\n",
       " 1.0       1.0       1.0       0.995193  …  0.985579  0.990386  1.0\n",
       " 1.0       0.995507  0.995507  0.9907       0.985795  0.995193  1.0\n",
       " 1.0       0.995507  0.994508  0.989701     0.987693  0.997091  1.0\n",
       " 1.0       0.993035  0.992036  0.986173     0.986543  0.994004  1.0\n",
       " 1.0       0.997528  0.996529  0.979886     0.979145  0.985103  1.0\n",
       " 1.0       0.995624  0.995624  0.978981  …  0.97613   0.982088  1.0\n",
       " 1.0       0.998095  0.99464   0.981492     0.972421  0.977906  0.992948\n",
       " 1.0       0.983148  0.971896  0.940844     0.983345  0.985743  0.992948\n",
       " 1.0       0.977255  0.966003  0.927798     0.982375  0.980789  0.982855\n",
       " 1.0       0.977255  0.969458  0.933622     0.982941  0.96919   0.96415\n",
       " 1.0       0.992203  0.986243  0.97909   …  0.971357  0.959658  0.952725\n",
       " 1.0       0.990948  0.976037  0.961395     0.97082   0.963104  0.962819\n",
       " 1.0       0.981997  0.962632  0.9395       0.966802  0.975594  0.987195\n",
       " ⋮                                       ⋱                      \n",
       " 0.993214  0.988312  0.984603  0.983958     0.94112   0.950847  0.955187\n",
       " 1.0       0.993778  0.983321  0.97589      0.94112   0.950847  0.955187\n",
       " 1.0       0.984011  0.972725  0.962414  …  0.973304  0.97138   0.97022\n",
       " 1.0       0.984011  0.973415  0.970535     0.949217  0.964142  0.957538\n",
       " 1.0       0.990233  0.984357  0.980414     0.934266  0.956345  0.949741\n",
       " 1.0       1.0       0.994953  0.99389      0.929992  0.958031  0.959756\n",
       " 1.0       1.0       0.991427  0.98444      0.978407  0.984474  0.983389\n",
       " 1.0       1.0       0.996474  0.98768   …  0.974243  0.97902   0.988714\n",
       " 1.0       1.0       0.996474  0.984593     0.951296  0.966853  0.990619\n",
       " 1.0       1.0       1.0       0.989451     0.949172  0.965815  0.993035\n",
       " 1.0       1.0       1.0       0.992321     0.968286  0.978067  0.993509\n",
       " 1.0       1.0       1.0       0.995409     0.995507  0.993509  0.991511"
      ]
     },
     "execution_count": 8,
     "metadata": {},
     "output_type": "execute_result"
    }
   ],
   "source": [
    "sub_P = plan_fft(similar(holo, Dx, Dy))\n",
    "@btime ldr_speed(holo, sub_P, 4000000, Dx, Dy, 50, 100, 2)"
   ]
  },
  {
   "cell_type": "code",
   "execution_count": null,
   "metadata": {},
   "outputs": [],
   "source": []
  }
 ],
 "metadata": {
  "kernelspec": {
   "display_name": "Julia 1.6.0-rc1",
   "language": "julia",
   "name": "julia-1.6"
  },
  "language_info": {
   "file_extension": ".jl",
   "mimetype": "application/julia",
   "name": "julia",
   "version": "1.6.0"
  }
 },
 "nbformat": 4,
 "nbformat_minor": 4
}
